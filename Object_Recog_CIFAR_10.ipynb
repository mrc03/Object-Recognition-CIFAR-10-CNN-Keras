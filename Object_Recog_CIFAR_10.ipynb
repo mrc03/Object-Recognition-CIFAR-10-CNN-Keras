{
 "cells": [
  {
   "cell_type": "markdown",
   "metadata": {},
   "source": [
    "# Object-Recognition-CIFAR-10-CNN-Keras"
   ]
  },
  {
   "cell_type": "markdown",
   "metadata": {},
   "source": [
    "# [Please star/upvote if u like it.]"
   ]
  },
  {
   "cell_type": "markdown",
   "metadata": {},
   "source": []
  },
  {
   "cell_type": "markdown",
   "metadata": {},
   "source": [
    "## CONTENTS:"
   ]
  },
  {
   "cell_type": "markdown",
   "metadata": {},
   "source": [
    "#### 1 ) Importing Various Modules"
   ]
  },
  {
   "cell_type": "markdown",
   "metadata": {},
   "source": [
    "#### 2 ) Loading the Training and Validation Set"
   ]
  },
  {
   "cell_type": "markdown",
   "metadata": {},
   "source": [
    "#### 3 ) Preparing the Data"
   ]
  },
  {
   "cell_type": "markdown",
   "metadata": {},
   "source": [
    "####  4 ) Modelling"
   ]
  },
  {
   "cell_type": "markdown",
   "metadata": {},
   "source": [
    "####  5 ) Making Predictions on the Validation Set"
   ]
  },
  {
   "cell_type": "markdown",
   "metadata": {},
   "source": [
    "####  6 ) Evaluating the Model Performance"
   ]
  },
  {
   "cell_type": "markdown",
   "metadata": {},
   "source": [
    "#### 7 ) Saving Submissions to a CSV file"
   ]
  },
  {
   "cell_type": "code",
   "execution_count": null,
   "metadata": {},
   "outputs": [],
   "source": []
  },
  {
   "cell_type": "markdown",
   "metadata": {},
   "source": [
    "## 1 ) Importing Various Modules"
   ]
  },
  {
   "cell_type": "code",
   "execution_count": 2,
   "metadata": {
    "colab": {
     "base_uri": "https://localhost:8080/",
     "height": 34
    },
    "colab_type": "code",
    "executionInfo": {
     "elapsed": 2361,
     "status": "ok",
     "timestamp": 1534705875525,
     "user": {
      "displayName": "RAJ MEHROTRA",
      "photoUrl": "https://lh3.googleusercontent.com/a/default-user=s128",
      "userId": "110747659525573676716"
     },
     "user_tz": -330
    },
    "id": "ZGdaJqchap1z",
    "outputId": "d0f4fd1b-4eae-43d5-fbc2-ecbbf05e83ec"
   },
   "outputs": [
    {
     "name": "stderr",
     "output_type": "stream",
     "text": [
      "Using TensorFlow backend.\n"
     ]
    }
   ],
   "source": [
    "# Ignore  the warnings\n",
    "import warnings\n",
    "warnings.filterwarnings('always')\n",
    "warnings.filterwarnings('ignore')\n",
    "\n",
    "# data visualisation and manipulation\n",
    "import numpy as np\n",
    "import pandas as pd\n",
    "import matplotlib.pyplot as plt\n",
    "from matplotlib import style\n",
    "import seaborn as sns\n",
    "import missingno as msno\n",
    "\n",
    "#configure\n",
    "# sets matplotlib to inline and displays graphs below the corressponding cell.\n",
    "% matplotlib inline  \n",
    "style.use('fivethirtyeight')\n",
    "sns.set(style='whitegrid',color_codes=True)\n",
    "\n",
    "#import the necessary modelling algos.\n",
    "from sklearn.linear_model import LogisticRegression\n",
    "from sklearn.svm import LinearSVC\n",
    "from sklearn.svm import SVC\n",
    "from sklearn.neighbors import KNeighborsClassifier\n",
    "from sklearn.ensemble import RandomForestClassifier\n",
    "from sklearn.tree import DecisionTreeClassifier\n",
    "from sklearn.ensemble import GradientBoostingClassifier\n",
    "from sklearn.naive_bayes import GaussianNB\n",
    "\n",
    "#model selection\n",
    "from sklearn.model_selection import train_test_split\n",
    "from sklearn.model_selection import KFold\n",
    "from sklearn.metrics import accuracy_score,precision_score,recall_score,confusion_matrix,roc_curve,roc_auc_score\n",
    "from sklearn.model_selection import GridSearchCV\n",
    "\n",
    "from imblearn.over_sampling import SMOTE\n",
    "\n",
    "#preprocess.\n",
    "from sklearn.preprocessing import MinMaxScaler,StandardScaler,Imputer,LabelEncoder,OneHotEncoder\n",
    "from keras.preprocessing.image import ImageDataGenerator\n",
    "\n",
    "#dl libraraies\n",
    "from keras import backend as K\n",
    "from keras.models import Sequential\n",
    "from keras.layers import Dense\n",
    "from keras.optimizers import Adam,SGD,Adagrad,Adadelta,RMSprop\n",
    "from keras.utils import to_categorical\n",
    "\n",
    "# specifically for cnn\n",
    "from keras.layers import Dropout, Flatten\n",
    "from keras.layers import Conv2D, MaxPooling2D, BatchNormalization\n",
    " \n",
    "\n",
    "import tensorflow as tf\n",
    "import random as rn\n",
    "\n",
    "# for loading the CIFAR-10 dataset.\n",
    "from keras.datasets import cifar10\n"
   ]
  },
  {
   "cell_type": "markdown",
   "metadata": {},
   "source": [
    "## 2 ) Loading the Training and Validation Set"
   ]
  },
  {
   "cell_type": "code",
   "execution_count": 0,
   "metadata": {
    "colab": {},
    "colab_type": "code",
    "id": "5hT7capUZfwz"
   },
   "outputs": [],
   "source": [
    "(x_train, y_train), (x_test, y_test) = cifar10.load_data()"
   ]
  },
  {
   "cell_type": "code",
   "execution_count": 0,
   "metadata": {
    "colab": {},
    "colab_type": "code",
    "id": "ThuqovuuZfw8"
   },
   "outputs": [],
   "source": [
    "# x_train"
   ]
  },
  {
   "cell_type": "code",
   "execution_count": 5,
   "metadata": {
    "colab": {
     "base_uri": "https://localhost:8080/",
     "height": 34
    },
    "colab_type": "code",
    "executionInfo": {
     "elapsed": 1177,
     "status": "ok",
     "timestamp": 1534705879786,
     "user": {
      "displayName": "RAJ MEHROTRA",
      "photoUrl": "https://lh3.googleusercontent.com/a/default-user=s128",
      "userId": "110747659525573676716"
     },
     "user_tz": -330
    },
    "id": "Gp9fkG2-ZfxE",
    "outputId": "3577ad76-e4a9-4e14-8bed-6c669e019ceb"
   },
   "outputs": [
    {
     "data": {
      "text/plain": [
       "(50000, 32, 32, 3)"
      ]
     },
     "execution_count": 5,
     "metadata": {
      "tags": []
     },
     "output_type": "execute_result"
    }
   ],
   "source": [
    "x_train.shape"
   ]
  },
  {
   "cell_type": "code",
   "execution_count": 6,
   "metadata": {
    "colab": {
     "base_uri": "https://localhost:8080/",
     "height": 34
    },
    "colab_type": "code",
    "executionInfo": {
     "elapsed": 1092,
     "status": "ok",
     "timestamp": 1534705881066,
     "user": {
      "displayName": "RAJ MEHROTRA",
      "photoUrl": "https://lh3.googleusercontent.com/a/default-user=s128",
      "userId": "110747659525573676716"
     },
     "user_tz": -330
    },
    "id": "9n4oDjRyZfxO",
    "outputId": "9980245b-c430-4904-fdf1-4bb7c4a21ff5"
   },
   "outputs": [
    {
     "data": {
      "text/plain": [
       "(10000, 32, 32, 3)"
      ]
     },
     "execution_count": 6,
     "metadata": {
      "tags": []
     },
     "output_type": "execute_result"
    }
   ],
   "source": [
    "x_test.shape"
   ]
  },
  {
   "cell_type": "markdown",
   "metadata": {},
   "source": [
    "The training set has 50000 images of 32*32 piels each while the validation set has 10000 images of same pixel values."
   ]
  },
  {
   "cell_type": "code",
   "execution_count": 7,
   "metadata": {
    "colab": {
     "base_uri": "https://localhost:8080/",
     "height": 34
    },
    "colab_type": "code",
    "executionInfo": {
     "elapsed": 1031,
     "status": "ok",
     "timestamp": 1534705882339,
     "user": {
      "displayName": "RAJ MEHROTRA",
      "photoUrl": "https://lh3.googleusercontent.com/a/default-user=s128",
      "userId": "110747659525573676716"
     },
     "user_tz": -330
    },
    "id": "oXiNwYUkZfxV",
    "outputId": "dc1f8c78-07be-402a-a62d-76813e2042f0"
   },
   "outputs": [
    {
     "data": {
      "text/plain": [
       "(50000, 1)"
      ]
     },
     "execution_count": 7,
     "metadata": {
      "tags": []
     },
     "output_type": "execute_result"
    }
   ],
   "source": [
    "y_train.shape"
   ]
  },
  {
   "cell_type": "code",
   "execution_count": 8,
   "metadata": {
    "colab": {
     "base_uri": "https://localhost:8080/",
     "height": 34
    },
    "colab_type": "code",
    "executionInfo": {
     "elapsed": 1111,
     "status": "ok",
     "timestamp": 1534705883622,
     "user": {
      "displayName": "RAJ MEHROTRA",
      "photoUrl": "https://lh3.googleusercontent.com/a/default-user=s128",
      "userId": "110747659525573676716"
     },
     "user_tz": -330
    },
    "id": "k_BmcmKOZfxc",
    "outputId": "49aa601c-3e96-4ab1-e6ef-64a26f0907a5"
   },
   "outputs": [
    {
     "data": {
      "text/plain": [
       "(10000, 1)"
      ]
     },
     "execution_count": 8,
     "metadata": {
      "tags": []
     },
     "output_type": "execute_result"
    }
   ],
   "source": [
    "y_test.shape  "
   ]
  },
  {
   "cell_type": "markdown",
   "metadata": {},
   "source": [
    "The target variable has only one columns which we shall one hot encode further for feeding into a CNN."
   ]
  },
  {
   "cell_type": "code",
   "execution_count": 9,
   "metadata": {
    "colab": {
     "base_uri": "https://localhost:8080/",
     "height": 34
    },
    "colab_type": "code",
    "executionInfo": {
     "elapsed": 1057,
     "status": "ok",
     "timestamp": 1534705884888,
     "user": {
      "displayName": "RAJ MEHROTRA",
      "photoUrl": "https://lh3.googleusercontent.com/a/default-user=s128",
      "userId": "110747659525573676716"
     },
     "user_tz": -330
    },
    "id": "DuqOn4OuZfxj",
    "outputId": "ea9428a3-7d62-446b-8fe5-6b09f0c648b5"
   },
   "outputs": [
    {
     "name": "stdout",
     "output_type": "stream",
     "text": [
      "[0 1 2 3 4 5 6 7 8 9]\n"
     ]
    }
   ],
   "source": [
    "print(np.unique(y_train)) "
   ]
  },
  {
   "cell_type": "code",
   "execution_count": 10,
   "metadata": {
    "colab": {
     "base_uri": "https://localhost:8080/",
     "height": 34
    },
    "colab_type": "code",
    "executionInfo": {
     "elapsed": 1175,
     "status": "ok",
     "timestamp": 1534705886145,
     "user": {
      "displayName": "RAJ MEHROTRA",
      "photoUrl": "https://lh3.googleusercontent.com/a/default-user=s128",
      "userId": "110747659525573676716"
     },
     "user_tz": -330
    },
    "id": "rF-9_ypBZfxo",
    "outputId": "75db9896-59ee-4114-a023-90175b1aded9"
   },
   "outputs": [
    {
     "name": "stdout",
     "output_type": "stream",
     "text": [
      "[0 1 2 3 4 5 6 7 8 9]\n"
     ]
    }
   ],
   "source": [
    "print(np.unique(y_test))  "
   ]
  },
  {
   "cell_type": "markdown",
   "metadata": {},
   "source": [
    "We have 10 classes one for each class of object including airplane , ship etc... ."
   ]
  },
  {
   "cell_type": "markdown",
   "metadata": {},
   "source": [
    "## 3 ) Preparing the Data"
   ]
  },
  {
   "cell_type": "markdown",
   "metadata": {},
   "source": [
    "## 3.1 ) One Hot Encoding the Target"
   ]
  },
  {
   "cell_type": "code",
   "execution_count": 0,
   "metadata": {
    "colab": {},
    "colab_type": "code",
    "id": "1ui-HmFxZfxu"
   },
   "outputs": [],
   "source": [
    "y_train=to_categorical(y_train)"
   ]
  },
  {
   "cell_type": "code",
   "execution_count": 12,
   "metadata": {
    "colab": {
     "base_uri": "https://localhost:8080/",
     "height": 136
    },
    "colab_type": "code",
    "executionInfo": {
     "elapsed": 762,
     "status": "ok",
     "timestamp": 1534705888278,
     "user": {
      "displayName": "RAJ MEHROTRA",
      "photoUrl": "https://lh3.googleusercontent.com/a/default-user=s128",
      "userId": "110747659525573676716"
     },
     "user_tz": -330
    },
    "id": "T5OpBT6XZfxx",
    "outputId": "6d0a9310-98bf-4509-8512-7e6296f068ad"
   },
   "outputs": [
    {
     "data": {
      "text/plain": [
       "array([[0., 0., 0., ..., 0., 0., 0.],\n",
       "       [0., 0., 0., ..., 0., 0., 1.],\n",
       "       [0., 0., 0., ..., 0., 0., 1.],\n",
       "       ...,\n",
       "       [0., 0., 0., ..., 0., 0., 1.],\n",
       "       [0., 1., 0., ..., 0., 0., 0.],\n",
       "       [0., 1., 0., ..., 0., 0., 0.]], dtype=float32)"
      ]
     },
     "execution_count": 12,
     "metadata": {
      "tags": []
     },
     "output_type": "execute_result"
    }
   ],
   "source": [
    "y_train"
   ]
  },
  {
   "cell_type": "code",
   "execution_count": 0,
   "metadata": {
    "colab": {},
    "colab_type": "code",
    "id": "qKJzQaxPZfx4"
   },
   "outputs": [],
   "source": [
    "y_test=to_categorical(y_test)"
   ]
  },
  {
   "cell_type": "code",
   "execution_count": 14,
   "metadata": {
    "colab": {
     "base_uri": "https://localhost:8080/",
     "height": 136
    },
    "colab_type": "code",
    "executionInfo": {
     "elapsed": 1120,
     "status": "ok",
     "timestamp": 1534705890815,
     "user": {
      "displayName": "RAJ MEHROTRA",
      "photoUrl": "https://lh3.googleusercontent.com/a/default-user=s128",
      "userId": "110747659525573676716"
     },
     "user_tz": -330
    },
    "id": "jA96rLu1Zfx8",
    "outputId": "7a3b7ae9-9994-4e7b-bc15-315fab17f7d5"
   },
   "outputs": [
    {
     "data": {
      "text/plain": [
       "array([[0., 0., 0., ..., 0., 0., 0.],\n",
       "       [0., 0., 0., ..., 0., 1., 0.],\n",
       "       [0., 0., 0., ..., 0., 1., 0.],\n",
       "       ...,\n",
       "       [0., 0., 0., ..., 0., 0., 0.],\n",
       "       [0., 1., 0., ..., 0., 0., 0.],\n",
       "       [0., 0., 0., ..., 1., 0., 0.]], dtype=float32)"
      ]
     },
     "execution_count": 14,
     "metadata": {
      "tags": []
     },
     "output_type": "execute_result"
    }
   ],
   "source": [
    "y_test"
   ]
  },
  {
   "cell_type": "markdown",
   "metadata": {},
   "source": [
    "## 3.2 ) Normalizing the Features"
   ]
  },
  {
   "cell_type": "code",
   "execution_count": 0,
   "metadata": {
    "colab": {},
    "colab_type": "code",
    "id": "ZV4V9ViSZfyA"
   },
   "outputs": [],
   "source": [
    "x_train=x_train/255\n",
    "x_test=x_test/255"
   ]
  },
  {
   "cell_type": "code",
   "execution_count": 0,
   "metadata": {
    "colab": {},
    "colab_type": "code",
    "id": "VPMvc-zGZfyE"
   },
   "outputs": [],
   "source": [
    "#x_train"
   ]
  },
  {
   "cell_type": "markdown",
   "metadata": {},
   "source": [
    "## 3.3 ) Setting the Random Seeds"
   ]
  },
  {
   "cell_type": "code",
   "execution_count": 0,
   "metadata": {
    "colab": {},
    "colab_type": "code",
    "id": "AwjWhZBcZfyH"
   },
   "outputs": [],
   "source": [
    "np.random.seed(42)"
   ]
  },
  {
   "cell_type": "code",
   "execution_count": 0,
   "metadata": {
    "colab": {},
    "colab_type": "code",
    "id": "l_v3n6d-ZfyK"
   },
   "outputs": [],
   "source": [
    "rn.seed(42)"
   ]
  },
  {
   "cell_type": "code",
   "execution_count": 0,
   "metadata": {
    "colab": {},
    "colab_type": "code",
    "id": "uhA5qNm2ZfyN"
   },
   "outputs": [],
   "source": [
    "tf.set_random_seed(42)"
   ]
  },
  {
   "cell_type": "markdown",
   "metadata": {},
   "source": [
    "## 3.4 ) Visualizing Some Object Images"
   ]
  },
  {
   "cell_type": "code",
   "execution_count": 20,
   "metadata": {
    "colab": {
     "base_uri": "https://localhost:8080/",
     "height": 924
    },
    "colab_type": "code",
    "executionInfo": {
     "elapsed": 2902,
     "status": "ok",
     "timestamp": 1534705901694,
     "user": {
      "displayName": "RAJ MEHROTRA",
      "photoUrl": "https://lh3.googleusercontent.com/a/default-user=s128",
      "userId": "110747659525573676716"
     },
     "user_tz": -330
    },
    "id": "jovLW2mDZfyR",
    "outputId": "3ef265bf-9e5b-4ae4-aa31-7c0415662db3"
   },
   "outputs": [
    {
     "data": {
      "image/png": "[encoded data removed]",
      "text/plain": [
       "<matplotlib.figure.Figure at 0x7fb65d34aa58>"
      ]
     },
     "metadata": {
      "tags": []
     },
     "output_type": "display_data"
    }
   ],
   "source": [
    "# visulaizing the images\n",
    "fig,ax=plt.subplots(5,2)\n",
    "fig.set_size_inches(15,15)\n",
    "count=0\n",
    "for i in range(5):\n",
    "    for j in range (2):\n",
    "        ax[i,j].imshow(x_train[count])\n",
    "        count+=1"
   ]
  },
  {
   "cell_type": "code",
   "execution_count": 21,
   "metadata": {
    "colab": {
     "base_uri": "https://localhost:8080/",
     "height": 204
    },
    "colab_type": "code",
    "executionInfo": {
     "elapsed": 2189,
     "status": "ok",
     "timestamp": 1534705903991,
     "user": {
      "displayName": "RAJ MEHROTRA",
      "photoUrl": "https://lh3.googleusercontent.com/a/default-user=s128",
      "userId": "110747659525573676716"
     },
     "user_tz": -330
    },
    "id": "ynxwFcmBZfyV",
    "outputId": "c71b1e97-4cff-41cf-e71f-49de371ac644"
   },
   "outputs": [
    {
     "data": {
      "image/png": "[encoded data removed]",
      "text/plain": [
       "<matplotlib.figure.Figure at 0x7fb612513e10>"
      ]
     },
     "metadata": {
      "tags": []
     },
     "output_type": "display_data"
    }
   ],
   "source": [
    "from scipy.misc import toimage\n",
    "for i in range(0, 9):\n",
    "    plt.subplot(450 + 1 + i)\n",
    "    plt.imshow(toimage(x_train[i]))\n",
    "plt.show()\n"
   ]
  },
  {
   "cell_type": "markdown",
   "metadata": {},
   "source": [
    "## 4 ) Modelling"
   ]
  },
  {
   "cell_type": "markdown",
   "metadata": {},
   "source": [
    "## 4.1 ) Building a Convolutional Neural Network using Keras"
   ]
  },
  {
   "cell_type": "code",
   "execution_count": 0,
   "metadata": {
    "colab": {},
    "colab_type": "code",
    "id": "0AEwuhM6ZfyZ"
   },
   "outputs": [],
   "source": [
    "# modelling starts using a CNN.\n",
    "\n",
    "model=Sequential()\n",
    "model.add(Conv2D(filters=32,kernel_size=(3,3),strides=1,padding='same',data_format=\"channels_last\",activation='relu',\n",
    "                 input_shape=(32,32,3)))\n",
    "model.add(BatchNormalization())\n",
    " \n",
    "model.add(Conv2D(filters=32,kernel_size=(3,3),strides=1,padding='same',data_format=\"channels_last\",activation='relu'))\n",
    "model.add(BatchNormalization())\n",
    "model.add(MaxPooling2D(pool_size=(2, 2), strides=2, padding='valid', data_format=\"channels_last\"))\n",
    " \n",
    "model.add(Conv2D(filters=64,kernel_size=(3,3),strides=1,padding='same',data_format=\"channels_last\",activation='relu'))\n",
    "model.add(BatchNormalization())\n",
    "model.add(Conv2D(filters=64,kernel_size=(3,3),strides=1,padding='same',data_format=\"channels_last\",activation='relu'))\n",
    "model.add(BatchNormalization())\n",
    "model.add(MaxPooling2D(pool_size=(2, 2), strides=2, padding='valid', data_format=\"channels_last\"))\n",
    " \n",
    "\n",
    "model.add(Conv2D(filters=128,kernel_size=(3,3),strides=1,padding='same',data_format=\"channels_last\",activation='relu'))\n",
    "model.add(BatchNormalization())\n",
    "model.add(Conv2D(filters=128,kernel_size=(3,3),strides=1,padding='same',data_format=\"channels_last\",activation='relu'))\n",
    "model.add(BatchNormalization())\n",
    "model.add(MaxPooling2D(pool_size=(2, 2), strides=2, padding='valid', data_format=\"channels_last\"))\n",
    " \n",
    "model.add(Flatten())\n",
    "model.add(Dense(512,activation='relu'))\n",
    "model.add(BatchNormalization())\n",
    "model.add(Dense(10, activation='softmax'))"
   ]
  },
  {
   "cell_type": "code",
   "execution_count": 0,
   "metadata": {
    "colab": {},
    "colab_type": "code",
    "id": "0d6veNixbu2-"
   },
   "outputs": [],
   "source": [
    "batch_size=64\n",
    "epochs=20"
   ]
  },
  {
   "cell_type": "markdown",
   "metadata": {},
   "source": [
    "## 4.2 ) Data Augmentation Using the Image Generator from Keras¶"
   ]
  },
  {
   "cell_type": "code",
   "execution_count": 0,
   "metadata": {
    "colab": {},
    "colab_type": "code",
    "id": "s03Jf1UVcCZZ"
   },
   "outputs": [],
   "source": [
    "datagen = ImageDataGenerator(\n",
    "        featurewise_center=False,  # set input mean to 0 over the dataset\n",
    "        samplewise_center=False,  # set each sample mean to 0\n",
    "        featurewise_std_normalization=False,  # divide inputs by std of the dataset\n",
    "        samplewise_std_normalization=False,  # divide each input by its std\n",
    "        zca_whitening=False,  # apply ZCA whitening\n",
    "        rotation_range=10,  # randomly rotate images in the range (degrees, 0 to 180)\n",
    "        zoom_range = 0.1, # Randomly zoom image \n",
    "        width_shift_range=0.1,  # randomly shift images horizontally (fraction of total width)\n",
    "        height_shift_range=0.1,  # randomly shift images vertically (fraction of total height)\n",
    "        horizontal_flip=True,  # randomly flip images\n",
    "        vertical_flip=False)  # randomly flip images\n",
    "\n",
    "\n",
    "datagen.fit(x_train)"
   ]
  },
  {
   "cell_type": "markdown",
   "metadata": {},
   "source": [
    "## 4.3 ) Compiling the Keras Model"
   ]
  },
  {
   "cell_type": "code",
   "execution_count": 0,
   "metadata": {
    "colab": {},
    "colab_type": "code",
    "id": "3G_nLy8ocG2B"
   },
   "outputs": [],
   "source": [
    "model.compile(optimizer=RMSprop(lr=0.001),loss='categorical_crossentropy',metrics=['accuracy'])"
   ]
  },
  {
   "cell_type": "markdown",
   "metadata": {},
   "source": [
    "## 4.4 ) Summary of the Model"
   ]
  },
  {
   "cell_type": "code",
   "execution_count": 26,
   "metadata": {
    "colab": {
     "base_uri": "https://localhost:8080/",
     "height": 782
    },
    "colab_type": "code",
    "executionInfo": {
     "elapsed": 1087,
     "status": "ok",
     "timestamp": 1534705913134,
     "user": {
      "displayName": "RAJ MEHROTRA",
      "photoUrl": "https://lh3.googleusercontent.com/a/default-user=s128",
      "userId": "110747659525573676716"
     },
     "user_tz": -330
    },
    "id": "Z97fV9qEcKsT",
    "outputId": "43db6bca-9b49-4920-aef1-19a95e9fe9ec"
   },
   "outputs": [
    {
     "name": "stdout",
     "output_type": "stream",
     "text": [
      "_________________________________________________________________\n",
      "Layer (type)                 Output Shape              Param #   \n",
      "=================================================================\n",
      "conv2d_1 (Conv2D)            (None, 32, 32, 32)        896       \n",
      "_________________________________________________________________\n",
      "batch_normalization_1 (Batch (None, 32, 32, 32)        128       \n",
      "_________________________________________________________________\n",
      "conv2d_2 (Conv2D)            (None, 32, 32, 32)        9248      \n",
      "_________________________________________________________________\n",
      "batch_normalization_2 (Batch (None, 32, 32, 32)        128       \n",
      "_________________________________________________________________\n",
      "max_pooling2d_1 (MaxPooling2 (None, 16, 16, 32)        0         \n",
      "_________________________________________________________________\n",
      "conv2d_3 (Conv2D)            (None, 16, 16, 64)        18496     \n",
      "_________________________________________________________________\n",
      "batch_normalization_3 (Batch (None, 16, 16, 64)        256       \n",
      "_________________________________________________________________\n",
      "conv2d_4 (Conv2D)            (None, 16, 16, 64)        36928     \n",
      "_________________________________________________________________\n",
      "batch_normalization_4 (Batch (None, 16, 16, 64)        256       \n",
      "_________________________________________________________________\n",
      "max_pooling2d_2 (MaxPooling2 (None, 8, 8, 64)          0         \n",
      "_________________________________________________________________\n",
      "conv2d_5 (Conv2D)            (None, 8, 8, 128)         73856     \n",
      "_________________________________________________________________\n",
      "batch_normalization_5 (Batch (None, 8, 8, 128)         512       \n",
      "_________________________________________________________________\n",
      "conv2d_6 (Conv2D)            (None, 8, 8, 128)         147584    \n",
      "_________________________________________________________________\n",
      "batch_normalization_6 (Batch (None, 8, 8, 128)         512       \n",
      "_________________________________________________________________\n",
      "max_pooling2d_3 (MaxPooling2 (None, 4, 4, 128)         0         \n",
      "_________________________________________________________________\n",
      "flatten_1 (Flatten)          (None, 2048)              0         \n",
      "_________________________________________________________________\n",
      "dense_1 (Dense)              (None, 512)               1049088   \n",
      "_________________________________________________________________\n",
      "batch_normalization_7 (Batch (None, 512)               2048      \n",
      "_________________________________________________________________\n",
      "dense_2 (Dense)              (None, 10)                5130      \n",
      "=================================================================\n",
      "Total params: 1,345,066\n",
      "Trainable params: 1,343,146\n",
      "Non-trainable params: 1,920\n",
      "_________________________________________________________________\n"
     ]
    }
   ],
   "source": [
    "model.summary()"
   ]
  },
  {
   "cell_type": "markdown",
   "metadata": {},
   "source": [
    "## 4.5 ) Fitting the model on the training data and testing on the validation set¶"
   ]
  },
  {
   "cell_type": "code",
   "execution_count": 27,
   "metadata": {
    "colab": {
     "base_uri": "https://localhost:8080/",
     "height": 697
    },
    "colab_type": "code",
    "executionInfo": {
     "elapsed": 997988,
     "status": "ok",
     "timestamp": 1534706911210,
     "user": {
      "displayName": "RAJ MEHROTRA",
      "photoUrl": "https://lh3.googleusercontent.com/a/default-user=s128",
      "userId": "110747659525573676716"
     },
     "user_tz": -330
    },
    "id": "jvNU771rcOla",
    "outputId": "bd76364f-4926-403c-a871-88b8e09878cb"
   },
   "outputs": [
    {
     "name": "stdout",
     "output_type": "stream",
     "text": [
      "Epoch 1/20\n",
      "781/781 [==============================] - 52s 67ms/step - loss: 1.3613 - acc: 0.5293 - val_loss: 1.2143 - val_acc: 0.5970\n",
      "Epoch 2/20\n",
      "781/781 [==============================] - 51s 65ms/step - loss: 0.9032 - acc: 0.6845 - val_loss: 0.9948 - val_acc: 0.6755\n",
      "Epoch 3/20\n",
      "781/781 [==============================] - 51s 65ms/step - loss: 0.7415 - acc: 0.7419 - val_loss: 0.6520 - val_acc: 0.7831\n",
      "Epoch 4/20\n",
      "781/781 [==============================] - 51s 65ms/step - loss: 0.6582 - acc: 0.7718 - val_loss: 0.8791 - val_acc: 0.7076\n",
      "Epoch 5/20\n",
      "781/781 [==============================] - 50s 64ms/step - loss: 0.5983 - acc: 0.7940 - val_loss: 0.8033 - val_acc: 0.7496\n",
      "Epoch 6/20\n",
      "781/781 [==============================] - 50s 65ms/step - loss: 0.5503 - acc: 0.8096 - val_loss: 0.5924 - val_acc: 0.8078\n",
      "Epoch 7/20\n",
      "781/781 [==============================] - 50s 64ms/step - loss: 0.5143 - acc: 0.8230 - val_loss: 0.6542 - val_acc: 0.7866\n",
      "Epoch 8/20\n",
      "781/781 [==============================] - 49s 63ms/step - loss: 0.4853 - acc: 0.8324 - val_loss: 0.5629 - val_acc: 0.8198\n",
      "Epoch 9/20\n",
      "781/781 [==============================] - 49s 63ms/step - loss: 0.4573 - acc: 0.8427 - val_loss: 0.5192 - val_acc: 0.8294\n",
      "Epoch 10/20\n",
      "781/781 [==============================] - 49s 63ms/step - loss: 0.4299 - acc: 0.8512 - val_loss: 0.5319 - val_acc: 0.8319\n",
      "Epoch 11/20\n",
      "781/781 [==============================] - 50s 64ms/step - loss: 0.4158 - acc: 0.8576 - val_loss: 0.5716 - val_acc: 0.8201\n",
      "Epoch 12/20\n",
      "781/781 [==============================] - 50s 63ms/step - loss: 0.3938 - acc: 0.8646 - val_loss: 0.6301 - val_acc: 0.8061\n",
      "Epoch 13/20\n",
      "781/781 [==============================] - 49s 63ms/step - loss: 0.3811 - acc: 0.8680 - val_loss: 0.5791 - val_acc: 0.8251\n",
      "Epoch 14/20\n",
      "781/781 [==============================] - 49s 63ms/step - loss: 0.3665 - acc: 0.8743 - val_loss: 0.6193 - val_acc: 0.8139\n",
      "Epoch 15/20\n",
      "781/781 [==============================] - 49s 62ms/step - loss: 0.3507 - acc: 0.8796 - val_loss: 0.5403 - val_acc: 0.8356\n",
      "Epoch 16/20\n",
      "781/781 [==============================] - 48s 62ms/step - loss: 0.3408 - acc: 0.8811 - val_loss: 0.5541 - val_acc: 0.8372\n",
      "Epoch 17/20\n",
      "781/781 [==============================] - 50s 63ms/step - loss: 0.3248 - acc: 0.8891 - val_loss: 0.5339 - val_acc: 0.8378\n",
      "Epoch 18/20\n",
      "781/781 [==============================] - 50s 64ms/step - loss: 0.3242 - acc: 0.8877 - val_loss: 0.4876 - val_acc: 0.8576\n",
      "Epoch 19/20\n",
      "781/781 [==============================] - 50s 64ms/step - loss: 0.3152 - acc: 0.8922 - val_loss: 0.5129 - val_acc: 0.8551\n",
      "Epoch 20/20\n",
      "781/781 [==============================] - 49s 63ms/step - loss: 0.3027 - acc: 0.8957 - val_loss: 0.5184 - val_acc: 0.8541\n"
     ]
    }
   ],
   "source": [
    "History = model.fit_generator(datagen.flow(x_train,y_train, batch_size=batch_size),\n",
    "                              epochs = epochs, validation_data = (x_test,y_test),\n",
    "                              verbose = 1, steps_per_epoch=x_train.shape[0] // batch_size)"
   ]
  },
  {
   "cell_type": "markdown",
   "metadata": {},
   "source": [
    "## 5 ) Making Predictions on the Validation Set"
   ]
  },
  {
   "cell_type": "code",
   "execution_count": 2,
   "metadata": {
    "colab": {
     "base_uri": "https://localhost:8080/",
     "height": 34
    },
    "colab_type": "code",
    "executionInfo": {
     "elapsed": 3758,
     "status": "ok",
     "timestamp": 1534706915130,
     "user": {
      "displayName": "RAJ MEHROTRA",
      "photoUrl": "https://lh3.googleusercontent.com/a/default-user=s128",
      "userId": "110747659525573676716"
     },
     "user_tz": -330
    },
    "id": "XCeJ4qOecT3k",
    "outputId": "bd493ca8-e607-48b4-b89a-74642d73df02"
   },
   "outputs": [],
   "source": [
    "pred=model.predict(x_test)\n",
    "pred_object=np.argmax(pred,axis=1)\n",
    "image_id=[]\n",
    "for i in range (len(pred_object)):\n",
    "    image_id.append(i+1)\n",
    "len(image_id)"
   ]
  },
  {
   "cell_type": "code",
   "execution_count": 29,
   "metadata": {
    "colab": {
     "base_uri": "https://localhost:8080/",
     "height": 34
    },
    "colab_type": "code",
    "executionInfo": {
     "elapsed": 1739,
     "status": "ok",
     "timestamp": 1534706916950,
     "user": {
      "displayName": "RAJ MEHROTRA",
      "photoUrl": "https://lh3.googleusercontent.com/a/default-user=s128",
      "userId": "110747659525573676716"
     },
     "user_tz": -330
    },
    "id": "gFa2NkmVUIwK",
    "outputId": "96f418ba-52c3-4e6e-f816-926ad1780677"
   },
   "outputs": [
    {
     "data": {
      "text/plain": [
       "array([3, 8, 8, ..., 5, 1, 7])"
      ]
     },
     "execution_count": 29,
     "metadata": {
      "tags": []
     },
     "output_type": "execute_result"
    }
   ],
   "source": [
    "pred_object"
   ]
  },
  {
   "cell_type": "markdown",
   "metadata": {},
   "source": [
    "## 6 ) Evaluating the Model Performance"
   ]
  },
  {
   "cell_type": "code",
   "execution_count": 30,
   "metadata": {
    "colab": {
     "base_uri": "https://localhost:8080/",
     "height": 51
    },
    "colab_type": "code",
    "executionInfo": {
     "elapsed": 3989,
     "status": "ok",
     "timestamp": 1534706921922,
     "user": {
      "displayName": "RAJ MEHROTRA",
      "photoUrl": "https://lh3.googleusercontent.com/a/default-user=s128",
      "userId": "110747659525573676716"
     },
     "user_tz": -330
    },
    "id": "-_oD6sY0UJob",
    "outputId": "72c60e9b-2afe-4283-d3eb-6a6ddf794e1a"
   },
   "outputs": [
    {
     "name": "stdout",
     "output_type": "stream",
     "text": [
      "10000/10000 [==============================] - 3s 306us/step\n"
     ]
    },
    {
     "data": {
      "text/plain": [
       "[0.5183620254516601, 0.8541]"
      ]
     },
     "execution_count": 30,
     "metadata": {
      "tags": []
     },
     "output_type": "execute_result"
    }
   ],
   "source": [
    "model.evaluate(x_test, y_test)"
   ]
  },
  {
   "cell_type": "code",
   "execution_count": 31,
   "metadata": {
    "colab": {
     "base_uri": "https://localhost:8080/",
     "height": 398
    },
    "colab_type": "code",
    "executionInfo": {
     "elapsed": 1514,
     "status": "ok",
     "timestamp": 1534706923529,
     "user": {
      "displayName": "RAJ MEHROTRA",
      "photoUrl": "https://lh3.googleusercontent.com/a/default-user=s128",
      "userId": "110747659525573676716"
     },
     "user_tz": -330
    },
    "id": "qUwBe5xeUNFs",
    "outputId": "e9e2e636-f811-4e2e-cbbe-c974a97c7e6b"
   },
   "outputs": [
    {
     "data": {
      "image/png": "[encoded data removed]",
      "text/plain": [
       "<matplotlib.figure.Figure at 0x7fb5bc979160>"
      ]
     },
     "metadata": {
      "tags": []
     },
     "output_type": "display_data"
    }
   ],
   "source": [
    "plt.plot(History.history['loss'])\n",
    "plt.plot(History.history['val_loss'])\n",
    "plt.title('Model Loss')\n",
    "plt.ylabel('Loss')\n",
    "plt.xlabel('Epochs')\n",
    "plt.legend(['train', 'test'])\n",
    "plt.show()\n"
   ]
  },
  {
   "cell_type": "code",
   "execution_count": 32,
   "metadata": {
    "colab": {
     "base_uri": "https://localhost:8080/",
     "height": 398
    },
    "colab_type": "code",
    "executionInfo": {
     "elapsed": 1654,
     "status": "ok",
     "timestamp": 1534706925306,
     "user": {
      "displayName": "RAJ MEHROTRA",
      "photoUrl": "https://lh3.googleusercontent.com/a/default-user=s128",
      "userId": "110747659525573676716"
     },
     "user_tz": -330
    },
    "id": "YWxow_5PURK1",
    "outputId": "d904657c-6908-4335-bfe2-2c35fd522269"
   },
   "outputs": [
    {
     "data": {
      "image/png": "[encoded data removed]",
      "text/plain": [
       "<matplotlib.figure.Figure at 0x7fb5bca38320>"
      ]
     },
     "metadata": {
      "tags": []
     },
     "output_type": "display_data"
    }
   ],
   "source": [
    "plt.plot(History.history['acc'])\n",
    "plt.plot(History.history['val_acc'])\n",
    "plt.title('Model Accuracy')\n",
    "plt.ylabel('Accuracy')\n",
    "plt.xlabel('Epochs')\n",
    "plt.legend(['train', 'test'])\n",
    "plt.show()"
   ]
  },
  {
   "cell_type": "markdown",
   "metadata": {},
   "source": [
    "## 7 ) Saving Submissions to a CSV file"
   ]
  },
  {
   "cell_type": "code",
   "execution_count": 0,
   "metadata": {
    "colab": {},
    "colab_type": "code",
    "id": "0B73eHBRUUNr"
   },
   "outputs": [],
   "source": [
    "d={'ImageId':image_id,'Label':pred_object}\n",
    "answer=pd.DataFrame(d)\n",
    "answer.to_csv('predictions.csv',index=False)"
   ]
  },
  {
   "cell_type": "code",
   "execution_count": 0,
   "metadata": {
    "colab": {},
    "colab_type": "code",
    "id": "r3j4DIV1UAbD"
   },
   "outputs": [],
   "source": [
    "# from google.colab import files\n",
    "# files.download('predictions.csv')"
   ]
  },
  {
   "cell_type": "code",
   "execution_count": 0,
   "metadata": {
    "colab": {},
    "colab_type": "code",
    "id": "pfpGs_wTV5Xt"
   },
   "outputs": [],
   "source": []
  }
 ],
 "metadata": {
  "accelerator": "GPU",
  "colab": {
   "collapsed_sections": [],
   "name": "Object_Recog_CIFAR_10.ipynb",
   "provenance": [],
   "version": "0.3.2"
  },
  "kernelspec": {
   "display_name": "Python 3",
   "language": "python",
   "name": "python3"
  },
  "language_info": {
   "codemirror_mode": {
    "name": "ipython",
    "version": 3
   },
   "file_extension": ".py",
   "mimetype": "text/x-python",
   "name": "python",
   "nbconvert_exporter": "python",
   "pygments_lexer": "ipython3",
   "version": "3.6.6"
  }
 },
 "nbformat": 4,
 "nbformat_minor": 1
}
